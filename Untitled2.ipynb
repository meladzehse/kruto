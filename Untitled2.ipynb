{
 "cells": [
  {
   "cell_type": "code",
   "execution_count": 1,
   "metadata": {},
   "outputs": [
    {
     "ename": "SyntaxError",
     "evalue": "invalid syntax (<ipython-input-1-0296d475b8f8>, line 15)",
     "output_type": "error",
     "traceback": [
      "\u001b[1;36m  File \u001b[1;32m\"<ipython-input-1-0296d475b8f8>\"\u001b[1;36m, line \u001b[1;32m15\u001b[0m\n\u001b[1;33m    if =='не нравится рожа':\u001b[0m\n\u001b[1;37m        ^\u001b[0m\n\u001b[1;31mSyntaxError\u001b[0m\u001b[1;31m:\u001b[0m invalid syntax\n"
     ]
    }
   ],
   "source": [
    "LK=4\n",
    "GK=4\n",
    "IK=\"пушок\"\n",
    "LP=4\n",
    "GP=2\n",
    "IP=\"РУДОЛЬФ\"\n",
    "def meow():\n",
    "    print(\"мяу\")\n",
    "def bark():\n",
    "    print(\"гаф\")\n",
    "def yox ():\n",
    "    if i=='погладить против шерстки':\n",
    "        print('кусь')\n",
    "def xox ():\n",
    "    if =='не нравится рожа':\n",
    "        print ('лягнуть')\n",
    "pushok=Kotik(\"пушок\")\n",
    "rudolf=Pessel(\"рудольф\")\n",
    "class Kotik()\n",
    "def__init__(self,name):\n",
    "    self(g)=2\n",
    "    self(p)=4\n",
    "self.name = name    \n",
    "def meow(self):\n",
    "pushok.meow()\n",
    "class Animal():\n",
    "pushok=Kotik(name=\"пушок\")\n",
    "A=Kotik(name=\"пушок\")\n",
    "class Animal ():\n",
    "    self gl=2\n",
    "    self lp=4\n",
    "    self(\"name\")=name\n",
    "    def eat(self)\n",
    "        print self name\n",
    "        print (\"покушал\")\n"
   ]
  },
  {
   "cell_type": "code",
   "execution_count": 10,
   "metadata": {},
   "outputs": [
    {
     "ename": "IndentationError",
     "evalue": "unexpected indent (<ipython-input-10-c717217b3500>, line 3)",
     "output_type": "error",
     "traceback": [
      "\u001b[1;36m  File \u001b[1;32m\"<ipython-input-10-c717217b3500>\"\u001b[1;36m, line \u001b[1;32m3\u001b[0m\n\u001b[1;33m    self(g)=2\u001b[0m\n\u001b[1;37m    ^\u001b[0m\n\u001b[1;31mIndentationError\u001b[0m\u001b[1;31m:\u001b[0m unexpected indent\n"
     ]
    }
   ],
   "source": [
    "class Kotik():\n",
    "    def__init__(self,name)\n",
    "        self(g)=2\n",
    "        self(p)=4\n",
    "self.name = name    \n",
    "def meow(self):\n",
    "pushok.meow()\n",
    "class Animal():\n",
    "pushok=Kotik(name=\"пушок\")\n",
    "A=Kotik(name=\"пушок\")\n",
    "class Animal ():\n",
    "    self gl=2\n",
    "    self lp=4\n",
    "    self(\"name\")=name\n",
    "    def eat(self)\n",
    "        print self name\n",
    "        print (\"покушал\")\n",
    "        "
   ]
  },
  {
   "cell_type": "code",
   "execution_count": 5,
   "metadata": {},
   "outputs": [
    {
     "ename": "SyntaxError",
     "evalue": "invalid syntax (<ipython-input-5-1f00d8deb9e0>, line 4)",
     "output_type": "error",
     "traceback": [
      "\u001b[1;36m  File \u001b[1;32m\"<ipython-input-5-1f00d8deb9e0>\"\u001b[1;36m, line \u001b[1;32m4\u001b[0m\n\u001b[1;33m    def __init__(self,name)\u001b[0m\n\u001b[1;37m                           ^\u001b[0m\n\u001b[1;31mSyntaxError\u001b[0m\u001b[1;31m:\u001b[0m invalid syntax\n"
     ]
    }
   ],
   "source": [
    "class Animal ():\n",
    "    gl=2\n",
    "    lp=4\n",
    "    def __init__(self,name)\n",
    "        self.name=name\n",
    "    def eat(self):\n",
    "        print (self,name)\n",
    "        print (\"покушал\")\n"
   ]
  },
  {
   "cell_type": "code",
   "execution_count": 6,
   "metadata": {},
   "outputs": [
    {
     "ename": "SyntaxError",
     "evalue": "invalid syntax (<ipython-input-6-8a4d1e3b58af>, line 1)",
     "output_type": "error",
     "traceback": [
      "\u001b[1;36m  File \u001b[1;32m\"<ipython-input-6-8a4d1e3b58af>\"\u001b[1;36m, line \u001b[1;32m1\u001b[0m\n\u001b[1;33m    i f t >= 1 :\u001b[0m\n\u001b[1;37m      ^\u001b[0m\n\u001b[1;31mSyntaxError\u001b[0m\u001b[1;31m:\u001b[0m invalid syntax\n"
     ]
    }
   ],
   "source": [
    "i f t >= 1 :\n",
    "z = 8\n",
    "i f z >= 3545\u0003247\u000381:\n",
    "z = 6\n",
    "e l i f z < 6 :\n",
    "i f z > 3 :\n",
    "z = 42\n",
    "i f z == 7622:\n",
    "i f z >= 1 :\n",
    "l = 7\n",
    "i f l == l :\n",
    "z = 521"
   ]
  },
  {
   "cell_type": "code",
   "execution_count": 9,
   "metadata": {},
   "outputs": [
    {
     "ename": "SyntaxError",
     "evalue": "invalid syntax (<ipython-input-9-a8d7fd3785b0>, line 3)",
     "output_type": "error",
     "traceback": [
      "\u001b[1;36m  File \u001b[1;32m\"<ipython-input-9-a8d7fd3785b0>\"\u001b[1;36m, line \u001b[1;32m3\u001b[0m\n\u001b[1;33m    u = 931\u00038504\u001b[0m\n\u001b[1;37m           ^\u001b[0m\n\u001b[1;31mSyntaxError\u001b[0m\u001b[1;31m:\u001b[0m invalid syntax\n"
     ]
    }
   ],
   "source": [
    "t = 611\n",
    "u = 97\n",
    "u = 931\u00038504\n",
    "d = 431\n",
    "t = 5\u0003554/3\u00032990\n",
    "print(u)"
   ]
  },
  {
   "cell_type": "code",
   "execution_count": 10,
   "metadata": {},
   "outputs": [
    {
     "ename": "SyntaxError",
     "evalue": "invalid syntax (<ipython-input-10-6266d42c174c>, line 1)",
     "output_type": "error",
     "traceback": [
      "\u001b[1;36m  File \u001b[1;32m\"<ipython-input-10-6266d42c174c>\"\u001b[1;36m, line \u001b[1;32m1\u001b[0m\n\u001b[1;33m    y = 267\u00037\u001b[0m\n\u001b[1;37m           ^\u001b[0m\n\u001b[1;31mSyntaxError\u001b[0m\u001b[1;31m:\u001b[0m invalid syntax\n"
     ]
    }
   ],
   "source": [
    "y = 267\u00037\n",
    "i f y <= y :\n",
    "y = 470\n",
    "y = 864\u00031\n",
    "i f y == y :\n",
    "f = 4\n",
    "pr in t ( y )"
   ]
  },
  {
   "cell_type": "code",
   "execution_count": 11,
   "metadata": {},
   "outputs": [
    {
     "ename": "SyntaxError",
     "evalue": "invalid syntax (<ipython-input-11-af7ffa93fde1>, line 2)",
     "output_type": "error",
     "traceback": [
      "\u001b[1;36m  File \u001b[1;32m\"<ipython-input-11-af7ffa93fde1>\"\u001b[1;36m, line \u001b[1;32m2\u001b[0m\n\u001b[1;33m    i f i <= 7775/8417+4435:\u001b[0m\n\u001b[1;37m      ^\u001b[0m\n\u001b[1;31mSyntaxError\u001b[0m\u001b[1;31m:\u001b[0m invalid syntax\n"
     ]
    }
   ],
   "source": [
    "i = 3116\n",
    "i f i <= 7775/8417+4435:\n",
    "i f i < 4 :\n",
    "d = 8494\n",
    "i f i >= i :\n",
    "i f d > 7 :\n",
    "d = 4765\u00033/2802\n",
    "pr in t (d)"
   ]
  },
  {
   "cell_type": "code",
   "execution_count": 12,
   "metadata": {},
   "outputs": [
    {
     "ename": "SyntaxError",
     "evalue": "invalid syntax (<ipython-input-12-ab22c281c839>, line 1)",
     "output_type": "error",
     "traceback": [
      "\u001b[1;36m  File \u001b[1;32m\"<ipython-input-12-ab22c281c839>\"\u001b[1;36m, line \u001b[1;32m1\u001b[0m\n\u001b[1;33m    i f t < 1 23:\u001b[0m\n\u001b[1;37m      ^\u001b[0m\n\u001b[1;31mSyntaxError\u001b[0m\u001b[1;31m:\u001b[0m invalid syntax\n"
     ]
    }
   ],
   "source": [
    "i f t < 1 23:\n",
    "h = 49\n",
    "h = 763􀀀6\u00032189\n",
    "i f h >= 72 0:\n",
    "i f h == 6 7 :\n",
    "i f h < 202+3344:\n",
    "h = 2595􀀀70+073\n",
    "i f h > 1􀀀3917+595:\n",
    "i f h < 6205:\n",
    "x = 392\n",
    "m = 1􀀀26/9\n",
    "i f x < 1 :\n",
    "i f x == 37 3:\n",
    "x = 648\n",
    "pr in t (h)\n",
    "1. 118"
   ]
  },
  {
   "cell_type": "code",
   "execution_count": 13,
   "metadata": {},
   "outputs": [
    {
     "data": {
      "text/plain": [
       "Type help() for interactive help, or help(object) for help about object."
      ]
     },
     "execution_count": 13,
     "metadata": {},
     "output_type": "execute_result"
    }
   ],
   "source": [
    "help\n"
   ]
  },
  {
   "cell_type": "code",
   "execution_count": 14,
   "metadata": {},
   "outputs": [
    {
     "ename": "NameError",
     "evalue": "name 'rb' is not defined",
     "output_type": "error",
     "traceback": [
      "\u001b[1;31m---------------------------------------------------------------------------\u001b[0m",
      "\u001b[1;31mNameError\u001b[0m                                 Traceback (most recent call last)",
      "\u001b[1;32m<ipython-input-14-81e12a6896c2>\u001b[0m in \u001b[0;36m<module>\u001b[1;34m\u001b[0m\n\u001b[1;32m----> 1\u001b[1;33m \u001b[0mhelp\u001b[0m\u001b[1;33m(\u001b[0m\u001b[0mrb\u001b[0m\u001b[1;33m)\u001b[0m\u001b[1;33m\u001b[0m\u001b[1;33m\u001b[0m\u001b[0m\n\u001b[0m",
      "\u001b[1;31mNameError\u001b[0m: name 'rb' is not defined"
     ]
    }
   ],
   "source": [
    "help(rb)"
   ]
  },
  {
   "cell_type": "code",
   "execution_count": 21,
   "metadata": {},
   "outputs": [
    {
     "ename": "NameError",
     "evalue": "name 'write' is not defined",
     "output_type": "error",
     "traceback": [
      "\u001b[1;31m---------------------------------------------------------------------------\u001b[0m",
      "\u001b[1;31mNameError\u001b[0m                                 Traceback (most recent call last)",
      "\u001b[1;32m<ipython-input-21-1ad6c582ba13>\u001b[0m in \u001b[0;36m<module>\u001b[1;34m\u001b[0m\n\u001b[0;32m      1\u001b[0m \u001b[0mA\u001b[0m\u001b[1;33m=\u001b[0m \u001b[0mopen\u001b[0m\u001b[1;33m(\u001b[0m\u001b[1;34m\"oldo.txt\"\u001b[0m\u001b[1;33m,\u001b[0m \u001b[1;34m\"w\"\u001b[0m\u001b[1;33m)\u001b[0m\u001b[1;33m\u001b[0m\u001b[1;33m\u001b[0m\u001b[0m\n\u001b[1;32m----> 2\u001b[1;33m \u001b[0mA\u001b[0m\u001b[1;33m:\u001b[0m \u001b[0mwrite\u001b[0m\u001b[1;33m(\u001b[0m\u001b[1;34m\"nya\"\u001b[0m\u001b[1;33m)\u001b[0m\u001b[1;33m\u001b[0m\u001b[1;33m\u001b[0m\u001b[0m\n\u001b[0m\u001b[0;32m      3\u001b[0m \u001b[0mA\u001b[0m\u001b[1;33m:\u001b[0m \u001b[0mclose\u001b[0m\u001b[1;33m(\u001b[0m\u001b[1;33m)\u001b[0m\u001b[1;33m\u001b[0m\u001b[1;33m\u001b[0m\u001b[0m\n\u001b[0;32m      4\u001b[0m \u001b[1;32mwith\u001b[0m \u001b[0mopen\u001b[0m\u001b[1;33m(\u001b[0m\u001b[1;34m\"old.txt\"\u001b[0m\u001b[1;33m,\u001b[0m \u001b[1;34m\"w\"\u001b[0m\u001b[1;33m)\u001b[0m \u001b[1;32mas\u001b[0m \u001b[0mA\u001b[0m\u001b[1;33m:\u001b[0m\u001b[1;33m\u001b[0m\u001b[1;33m\u001b[0m\u001b[0m\n\u001b[0;32m      5\u001b[0m     \u001b[0mA\u001b[0m\u001b[1;33m.\u001b[0m\u001b[0mwrite\u001b[0m\u001b[1;33m(\u001b[0m\u001b[1;34m\"1350\\n\"\u001b[0m\u001b[1;33m)\u001b[0m\u001b[1;33m\u001b[0m\u001b[1;33m\u001b[0m\u001b[0m\n",
      "\u001b[1;31mNameError\u001b[0m: name 'write' is not defined"
     ]
    }
   ],
   "source": [
    "A= open(\"oldo.txt\", \"w\")\n",
    "A: write(\"nya\")\n",
    "A: close()\n",
    "with open(\"old.txt\", \"w\") as A:\n",
    "    A.write(\"1350\\n\")"
   ]
  },
  {
   "cell_type": "code",
   "execution_count": 22,
   "metadata": {},
   "outputs": [],
   "source": [
    "with open(\"old.txt\", \"w\") as A:\n",
    "    A.write(\"1350\\n\")"
   ]
  },
  {
   "cell_type": "code",
   "execution_count": null,
   "metadata": {},
   "outputs": [],
   "source": []
  }
 ],
 "metadata": {
  "kernelspec": {
   "display_name": "Python 3",
   "language": "python",
   "name": "python3"
  },
  "language_info": {
   "codemirror_mode": {
    "name": "ipython",
    "version": 3
   },
   "file_extension": ".py",
   "mimetype": "text/x-python",
   "name": "python",
   "nbconvert_exporter": "python",
   "pygments_lexer": "ipython3",
   "version": "3.7.4"
  }
 },
 "nbformat": 4,
 "nbformat_minor": 2
}
